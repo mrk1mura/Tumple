{
 "cells": [
  {
   "cell_type": "markdown",
   "id": "f2108d2c-c127-4403-8535-0b8dc68bfee0",
   "metadata": {},
   "source": [
    "# Tumple içerisindeki str asla değiştirilemez."
   ]
  },
  {
   "cell_type": "markdown",
   "id": "208a36cc-3430-4fe7-9e3f-403a7b4040a7",
   "metadata": {},
   "source": [
    "# (\"\") gösterildi gibi yazılır."
   ]
  },
  {
   "cell_type": "code",
   "execution_count": 7,
   "id": "83d292de-a4e2-45d3-ad17-2c1c39899793",
   "metadata": {},
   "outputs": [],
   "source": [
    "tumple =(\"sun rise again,realize my dream\")"
   ]
  },
  {
   "cell_type": "code",
   "execution_count": 9,
   "id": "9d4ff47b-5351-41d2-adbf-99f05f45058f",
   "metadata": {},
   "outputs": [
    {
     "ename": "TypeError",
     "evalue": "'str' object does not support item assignment",
     "output_type": "error",
     "traceback": [
      "\u001b[1;31m---------------------------------------------------------------------------\u001b[0m",
      "\u001b[1;31mTypeError\u001b[0m                                 Traceback (most recent call last)",
      "Cell \u001b[1;32mIn[9], line 1\u001b[0m\n\u001b[1;32m----> 1\u001b[0m tumple[\u001b[38;5;241m0\u001b[39m] \u001b[38;5;241m=\u001b[39m (\u001b[38;5;124m\"\u001b[39m\u001b[38;5;124mgüneş yeniden doğacak\u001b[39m\u001b[38;5;124m\"\u001b[39m)\n",
      "\u001b[1;31mTypeError\u001b[0m: 'str' object does not support item assignment"
     ]
    }
   ],
   "source": [
    "tumple[0] = (\"güneş yeniden doğacak\")"
   ]
  },
  {
   "cell_type": "markdown",
   "id": "60362b92-839d-4f84-b7e4-c8a7b56846f5",
   "metadata": {},
   "source": [
    "# TUMPLE METHODS"
   ]
  },
  {
   "cell_type": "markdown",
   "id": "9bb7a3c5-fb3b-4fc2-b88a-9c57f2b4ce54",
   "metadata": {},
   "source": [
    "# .count Methodu stringin içerisinde ne kadar harf yada sayı varsa onu bize gösterir."
   ]
  },
  {
   "cell_type": "code",
   "execution_count": 13,
   "id": "1b68c8fe-85b7-493c-9c18-2b0add99253e",
   "metadata": {},
   "outputs": [
    {
     "data": {
      "text/plain": [
       "4"
      ]
     },
     "execution_count": 13,
     "metadata": {},
     "output_type": "execute_result"
    }
   ],
   "source": [
    "tumple.count(\"a\")"
   ]
  },
  {
   "cell_type": "code",
   "execution_count": 15,
   "id": "aa722fbf-7e7a-4102-adde-085c9e110718",
   "metadata": {},
   "outputs": [
    {
     "data": {
      "text/plain": [
       "3"
      ]
     },
     "execution_count": 15,
     "metadata": {},
     "output_type": "execute_result"
    }
   ],
   "source": [
    "tumple.count(\"i\")"
   ]
  },
  {
   "cell_type": "markdown",
   "id": "070a60a2-274a-49b1-9774-d6dcef99bceb",
   "metadata": {},
   "source": [
    "# .index Methodu bize hangi harf,kelime ve sayı hangi sıradaysa onu öğrenmemizi sağlar."
   ]
  },
  {
   "cell_type": "code",
   "execution_count": 24,
   "id": "f7863a86-8add-460a-b1d1-255581f2da79",
   "metadata": {},
   "outputs": [
    {
     "data": {
      "text/plain": [
       "9"
      ]
     },
     "execution_count": 24,
     "metadata": {},
     "output_type": "execute_result"
    }
   ],
   "source": [
    "tumple.index(\"a\")"
   ]
  },
  {
   "cell_type": "code",
   "execution_count": 26,
   "id": "0ef18a27-4371-48f1-9ae0-089064c15bb1",
   "metadata": {},
   "outputs": [
    {
     "data": {
      "text/plain": [
       "5"
      ]
     },
     "execution_count": 26,
     "metadata": {},
     "output_type": "execute_result"
    }
   ],
   "source": [
    "tumple.index (\"i\")"
   ]
  },
  {
   "cell_type": "code",
   "execution_count": 28,
   "id": "833c433e-26ee-4059-981a-4e17b867a7ed",
   "metadata": {},
   "outputs": [
    {
     "data": {
      "text/plain": [
       "2"
      ]
     },
     "execution_count": 28,
     "metadata": {},
     "output_type": "execute_result"
    }
   ],
   "source": [
    "my_tuple = (10, 20, 30, 20, 40)\n",
    "my_tuple.index(30)"
   ]
  },
  {
   "cell_type": "code",
   "execution_count": 30,
   "id": "108321c2-f4ac-466a-a06b-11d4a82b933a",
   "metadata": {},
   "outputs": [
    {
     "data": {
      "text/plain": [
       "1"
      ]
     },
     "execution_count": 30,
     "metadata": {},
     "output_type": "execute_result"
    }
   ],
   "source": [
    "my_tuple.index(20)"
   ]
  },
  {
   "cell_type": "code",
   "execution_count": null,
   "id": "c791c33f-d7e1-4c76-9e55-6abfb630ffff",
   "metadata": {},
   "outputs": [],
   "source": []
  }
 ],
 "metadata": {
  "kernelspec": {
   "display_name": "Python 3 (ipykernel)",
   "language": "python",
   "name": "python3"
  },
  "language_info": {
   "codemirror_mode": {
    "name": "ipython",
    "version": 3
   },
   "file_extension": ".py",
   "mimetype": "text/x-python",
   "name": "python",
   "nbconvert_exporter": "python",
   "pygments_lexer": "ipython3",
   "version": "3.12.4"
  }
 },
 "nbformat": 4,
 "nbformat_minor": 5
}
